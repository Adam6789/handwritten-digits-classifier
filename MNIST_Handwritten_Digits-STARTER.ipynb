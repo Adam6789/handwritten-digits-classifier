{
 "cells": [
  {
   "cell_type": "markdown",
   "metadata": {},
   "source": [
    "# Introduction\n",
    "\n",
    "In this project, you will build a neural network of your own design to evaluate the MNIST dataset.\n",
    "\n",
    "Some of the benchmark results on MNIST include can be found [on Yann LeCun's page](http://yann.lecun.com/exdb/mnist/) and include:\n",
    "\n",
    "88% [Lecun et al., 1998](http://yann.lecun.com/exdb/publis/pdf/lecun-98.pdf)\n",
    "95.3% [Lecun et al., 1998](http://yann.lecun.com/exdb/publis/pdf/lecun-98.pdf)\n",
    "99.65% [Ciresan et al., 2011](http://people.idsia.ch/~juergen/ijcai2011.pdf)\n",
    "\n",
    "MNIST is a great dataset for sanity checking your models, since the accuracy levels achieved by large convolutional neural networks and small linear models are both quite high. This makes it important to be familiar with the data.\n",
    "\n",
    "## Imports"
   ]
  },
  {
   "cell_type": "code",
   "execution_count": 2,
   "metadata": {},
   "outputs": [],
   "source": [
    "## This cell contains the essential imports you will need – DO NOT CHANGE THE CONTENTS! ##\n",
    "import torch\n",
    "import torch.nn as nn\n",
    "import torch.nn.functional as F\n",
    "import torch.optim as optim\n",
    "import torchvision\n",
    "import torchvision.transforms as transforms\n",
    "import matplotlib.pyplot as plt\n",
    "import numpy as np"
   ]
  },
  {
   "cell_type": "markdown",
   "metadata": {},
   "source": [
    "## Load the Dataset\n",
    "\n",
    "Specify your transforms as a list if you intend to .\n",
    "The transforms module is already loaded as `transforms`.\n",
    "\n",
    "MNIST is fortunately included in the torchvision module.\n",
    "Then, you can create your dataset using the `MNIST` object from `torchvision.datasets` ([the documentation is available here](https://pytorch.org/vision/stable/datasets.html#mnist)).\n",
    "Make sure to specify `download=True`! \n",
    "\n",
    "Once your dataset is created, you'll also need to define a `DataLoader` from the `torch.utils.data` module for both the train and the test set."
   ]
  },
  {
   "cell_type": "code",
   "execution_count": 3,
   "metadata": {},
   "outputs": [],
   "source": [
    "#!pip install ipywidgets"
   ]
  },
  {
   "cell_type": "code",
   "execution_count": 4,
   "metadata": {},
   "outputs": [
    {
     "name": "stderr",
     "output_type": "stream",
     "text": [
      "/opt/conda/lib/python3.7/site-packages/torchvision/datasets/mnist.py:498: UserWarning: The given NumPy array is not writable, and PyTorch does not support non-writable tensors. This means writing to this tensor will result in undefined behavior. You may want to copy the array to protect its data or make it writable before converting it to a tensor. This type of warning will be suppressed for the rest of this program. (Triggered internally at  ../torch/csrc/utils/tensor_numpy.cpp:178.)\n",
      "  return torch.from_numpy(parsed.astype(m[2], copy=False)).view(*s)\n"
     ]
    }
   ],
   "source": [
    "# Define transforms\n",
    "## YOUR CODE HERE ##\n",
    "\n",
    "# transforms.CenterCrop(10),\n",
    "transform = transforms.Compose([transforms.ToTensor(),transforms.CenterCrop((28,28)),transforms.Normalize(0.5,0.5)])\n",
    "\n",
    "# Create training set and define training dataloader\n",
    "## YOUR CODE HERE ##\n",
    "trainset = torchvision.datasets.MNIST(\"train\", train=True, transform=transform, download=True)\n",
    "trainloader = torch.utils.data.DataLoader(trainset,batch_size=32,shuffle=True)\n",
    "\n",
    "\n",
    "# Create test set and define test dataloader\n",
    "## YOUR CODE HERE ##\n",
    "testset = torchvision.datasets.MNIST(\"test\", train=False, transform=transform, download=True)\n",
    "testloader = torch.utils.data.DataLoader(trainset,batch_size=32)"
   ]
  },
  {
   "cell_type": "markdown",
   "metadata": {},
   "source": [
    "## Justify your preprocessing\n",
    "\n",
    "<span style=\"color:red\">In your own words, why did you choose the transforms you chose? If you didn't use any preprocessing steps, why not? </span>"
   ]
  },
  {
   "cell_type": "markdown",
   "metadata": {},
   "source": [
    "**DOUBLE CLICK THIS CELL TO MODIFY**"
   ]
  },
  {
   "cell_type": "markdown",
   "metadata": {},
   "source": [
    "## Explore the Dataset\n",
    "Using matplotlib, numpy, and torch, explore the dimensions of your data.\n",
    "\n",
    "You can view images using the `show5` function defined below – it takes a data loader as an argument.\n",
    "Remember that normalized images will look really weird to you! You may want to try changing your transforms to view images.\n",
    "Typically using no transforms other than `toTensor()` works well for viewing – but not as well for training your network.\n",
    "If `show5` doesn't work, go back and check your code for creating your data loaders and your training/test sets."
   ]
  },
  {
   "cell_type": "code",
   "execution_count": 5,
   "metadata": {},
   "outputs": [],
   "source": [
    "## This cell contains a function for showing 5 images from a dataloader – DO NOT CHANGE THE CONTENTS! ##\n",
    "def show5(img_loader):\n",
    "    dataiter = iter(img_loader)\n",
    "    \n",
    "    batch = next(dataiter)\n",
    "    labels = batch[1][0:5]\n",
    "    images = batch[0][0:5]\n",
    "    for i in range(5):\n",
    "        print(int(labels[i].detach()))\n",
    "        \n",
    "        image = images[i].numpy()\n",
    "        plt.imshow(image.squeeze())\n",
    "        plt.show()"
   ]
  },
  {
   "cell_type": "code",
   "execution_count": 6,
   "metadata": {},
   "outputs": [
    {
     "name": "stdout",
     "output_type": "stream",
     "text": [
      "5\n"
     ]
    },
    {
     "data": {
      "image/png": "[encoded data removed]",
      "text/plain": [
       "<Figure size 432x288 with 1 Axes>"
      ]
     },
     "metadata": {
      "needs_background": "light"
     },
     "output_type": "display_data"
    },
    {
     "name": "stdout",
     "output_type": "stream",
     "text": [
      "0\n"
     ]
    },
    {
     "data": {
      "image/png": "[encoded data removed]",
      "text/plain": [
       "<Figure size 432x288 with 1 Axes>"
      ]
     },
     "metadata": {
      "needs_background": "light"
     },
     "output_type": "display_data"
    },
    {
     "name": "stdout",
     "output_type": "stream",
     "text": [
      "4\n"
     ]
    },
    {
     "data": {
      "image/png": "[encoded data removed]",
      "text/plain": [
       "<Figure size 432x288 with 1 Axes>"
      ]
     },
     "metadata": {
      "needs_background": "light"
     },
     "output_type": "display_data"
    },
    {
     "name": "stdout",
     "output_type": "stream",
     "text": [
      "1\n"
     ]
    },
    {
     "data": {
      "image/png": "[encoded data removed]",
      "text/plain": [
       "<Figure size 432x288 with 1 Axes>"
      ]
     },
     "metadata": {
      "needs_background": "light"
     },
     "output_type": "display_data"
    },
    {
     "name": "stdout",
     "output_type": "stream",
     "text": [
      "9\n"
     ]
    },
    {
     "data": {
      "image/png": "[encoded data removed]",
      "text/plain": [
       "<Figure size 432x288 with 1 Axes>"
      ]
     },
     "metadata": {
      "needs_background": "light"
     },
     "output_type": "display_data"
    }
   ],
   "source": [
    "#show5(trainloader)\n",
    "show5(testloader)\n",
    "# Explore data\n",
    "## YOUR CODE HERE ##"
   ]
  },
  {
   "cell_type": "markdown",
   "metadata": {},
   "source": [
    "## Build your Neural Network\n",
    "Using the layers in `torch.nn` (which has been imported as `nn`) and the `torch.nn.functional` module (imported as `F`), construct a neural network based on the parameters of the dataset.\n",
    "Use any architecture you like. \n",
    "\n",
    "*Note*: If you did not flatten your tensors in your transforms or as part of your preprocessing and you are using only `Linear` layers, make sure to use the `Flatten` layer in your network!"
   ]
  },
  {
   "cell_type": "code",
   "execution_count": 7,
   "metadata": {},
   "outputs": [],
   "source": [
    "## YOUR CODE HERE ##\n",
    "class ImageClassifier(nn.Module):\n",
    "    def __init__(self, in_size=28*28, fst_size=20, out_size=10):\n",
    "        super().__init__()\n",
    "#         self.in_size = in_size\n",
    "#         self.fst_size = fst_size\n",
    "#         self.snd_size = snd_size\n",
    "#         self.out_size = outsize_size\n",
    "        \n",
    "        self.fst_fc = nn.Linear(in_size, fst_size)\n",
    "        self.snd_fc = nn.Linear(fst_size, out_size)\n",
    "        \n",
    "        \n",
    "    def forward(self, x):\n",
    "        x = self.fst_fc(x)\n",
    "        x = self.snd_fc(x)\n",
    "        return x\n",
    "        \n",
    "        \n",
    "        \n",
    "        \n",
    "\n",
    "        "
   ]
  },
  {
   "cell_type": "markdown",
   "metadata": {},
   "source": [
    "Specify a loss function and an optimizer, and instantiate the model.\n",
    "\n",
    "If you use a less common loss function, please note why you chose that loss function in a comment."
   ]
  },
  {
   "cell_type": "code",
   "execution_count": 29,
   "metadata": {},
   "outputs": [
    {
     "name": "stdout",
     "output_type": "stream",
     "text": [
      "CUDA is not available.  Training on CPU ...\n"
     ]
    }
   ],
   "source": [
    "## YOUR CODE HERE ##\n",
    "epochs = 4\n",
    "#lr = 0.00001\n",
    "lr = 0.0001\n",
    "net = ImageClassifier(fst_size=200)\n",
    "train_on_gpu = torch.cuda.is_available()\n",
    "#train_on_gpu = False\n",
    "if not train_on_gpu:\n",
    "    print('CUDA is not available.  Training on CPU ...')\n",
    "else:\n",
    "    print('CUDA is available!  Training on GPU ...')\n",
    "if train_on_gpu:\n",
    "    net.cuda()\n",
    "criterion = nn.CrossEntropyLoss()\n",
    "optimizer = optim.Adam(net.parameters(),lr = lr)"
   ]
  },
  {
   "cell_type": "markdown",
   "metadata": {},
   "source": [
    "## Running your Neural Network\n",
    "Use whatever method you like to train your neural network, and ensure you record the average loss at each epoch. \n",
    "Don't forget to use `torch.device()` and the `.to()` method for both your model and your data if you are using GPU!\n",
    "\n",
    "If you want to print your loss **during** each epoch, you can use the `enumerate` function and print the loss after a set number of batches. 250 batches works well for most people!"
   ]
  },
  {
   "cell_type": "code",
   "execution_count": null,
   "metadata": {},
   "outputs": [],
   "source": [
    "from torch.utils.tensorboard import SummaryWriter\n",
    "\n",
    "writer = SummaryWriter(log_dir=\"./giraffe\")"
   ]
  },
  {
   "cell_type": "code",
   "execution_count": null,
   "metadata": {},
   "outputs": [
    {
     "name": "stdout",
     "output_type": "stream",
     "text": [
      "1 % loss:  1.73 accuracy/train:  0.56 accuracy/test 0.77 duration:  26.77 batch/sec:  3.7355248412401942\n",
      "2 % loss:  1.36 accuracy/train:  0.8 accuracy/test 0.82 duration:  53.76 batch/sec:  3.7202380952380953\n",
      "4 % loss:  1.16 accuracy/train:  0.83 accuracy/test 0.85 duration:  80.33 batch/sec:  3.7345947964645836\n",
      "5 % loss:  1.02 accuracy/train:  0.86 accuracy/test 0.86 duration:  106.87 batch/sec:  3.7428651632824925\n",
      "6 % loss:  0.92 accuracy/train:  0.87 accuracy/test 0.87 duration:  133.54 batch/sec:  3.7441964954320803\n",
      "8 % loss:  0.85 accuracy/train:  0.87 accuracy/test 0.88 duration:  159.94 batch/sec:  3.751406777541578\n",
      "9 % loss:  0.79 accuracy/train:  0.87 accuracy/test 0.88 duration:  186.96 batch/sec:  3.7441163885323063\n",
      "10 % loss:  0.74 accuracy/train:  0.88 accuracy/test 0.88 duration:  214.14 batch/sec:  3.735873727468012\n",
      "12 % loss:  0.71 accuracy/train:  0.88 accuracy/test 0.88 duration:  241.38 batch/sec:  3.7285607755406414\n",
      "13 % loss:  0.68 accuracy/train:  0.89 accuracy/test 0.89 duration:  268.53 batch/sec:  3.723978698841843\n",
      "14 % loss:  0.65 accuracy/train:  0.89 accuracy/test 0.89 duration:  295.74 batch/sec:  3.7194833299519847\n",
      "16 % loss:  0.63 accuracy/train:  0.89 accuracy/test 0.9 duration:  323.17 batch/sec:  3.7132159544512175\n",
      "17 % loss:  0.61 accuracy/train:  0.9 accuracy/test 0.9 duration:  350.34 batch/sec:  3.710681052691671\n",
      "18 % loss:  0.59 accuracy/train:  0.9 accuracy/test 0.9 duration:  377.17 batch/sec:  3.7118540711085184\n",
      "20 % loss:  0.57 accuracy/train:  0.89 accuracy/test 0.89 duration:  404.27 batch/sec:  3.710391569990353\n",
      "21 % loss:  0.56 accuracy/train:  0.9 accuracy/test 0.9 duration:  431.25 batch/sec:  3.710144927536232\n",
      "22 % loss:  0.55 accuracy/train:  0.9 accuracy/test 0.89 duration:  457.91 batch/sec:  3.7125199274966696\n",
      "24 % loss:  0.54 accuracy/train:  0.9 accuracy/test 0.9 duration:  484.68 batch/sec:  3.713790542213419\n",
      "25 % loss:  0.53 accuracy/train:  0.9 accuracy/test 0.9 duration:  511.29 batch/sec:  3.7160906726124114\n",
      "26 % loss:  0.52 accuracy/train:  0.91 accuracy/test 0.9 duration:  538.14 batch/sec:  3.7165049986992233\n",
      "28 % loss:  0.51 accuracy/train:  0.91 accuracy/test 0.9 duration:  565.49 batch/sec:  3.7135935206634954\n",
      "29 % loss:  0.5 accuracy/train:  0.9 accuracy/test 0.9 duration:  593.46 batch/sec:  3.707073770768038\n",
      "30 % loss:  0.49 accuracy/train:  0.89 accuracy/test 0.91 duration:  622.03 batch/sec:  3.697570856711091\n",
      "32 % loss:  0.49 accuracy/train:  0.91 accuracy/test 0.91 duration:  651.4 batch/sec:  3.68437212158428\n",
      "33 % loss:  0.48 accuracy/train:  0.91 accuracy/test 0.91 duration:  680.49 batch/sec:  3.673823274405208\n",
      "34 % loss:  0.48 accuracy/train:  0.91 accuracy/test 0.9 duration:  709.44 batch/sec:  3.664862426702751\n",
      "36 % loss:  0.47 accuracy/train:  0.9 accuracy/test 0.9 duration:  738.19 batch/sec:  3.657594928135033\n",
      "37 % loss:  0.47 accuracy/train:  0.91 accuracy/test 0.91 duration:  767.07 batch/sec:  3.650253562256378\n"
     ]
    }
   ],
   "source": [
    "import numpy as np\n",
    "import time\n",
    "## YOUR CODE HERE ##\n",
    "start = time.time()\n",
    "epochs = epochs\n",
    "total_i = 0\n",
    "\n",
    "losses = []\n",
    "#accuracies = []\n",
    "avg_losses = []\n",
    "avg_acces_train = []\n",
    "avg_acces_test = []\n",
    "acc_test = 0\n",
    "acc_train = 0 \n",
    "\n",
    "\n",
    "\n",
    "for epoch in range(epochs):\n",
    "    \n",
    "\n",
    "    \n",
    "    for i, batch in enumerate(trainloader,1):\n",
    "        net.train()\n",
    "        total_i += 1\n",
    "        x = batch[0]\n",
    "        y = batch[1]\n",
    "        if train_on_gpu:\n",
    "            x, y = x.cuda(), y.cuda()\n",
    "        x = torch.reshape(x,(32,-1))\n",
    "        optimizer.zero_grad()\n",
    "        pred = net.forward(x)\n",
    "        loss = criterion(pred, y)\n",
    "        loss.backward()\n",
    "        optimizer.step()\n",
    "        acc_train += torch.sum(torch.tensor(np.argmax(pred.detach().cpu().numpy(),axis=1)) == torch.tensor(y.detach().cpu().numpy())) / len(pred)\n",
    "        \n",
    "        losses.append(loss.item())\n",
    "        #accuracies.append(accuracy.item())\n",
    "        avg_loss = round(np.array(losses).mean(),2)\n",
    "        #avg_acc = round(np.array(accuracies).mean(),2)\n",
    "        avg_losses.append(avg_loss)\n",
    "        #avg_acces.append(avg_acc)\n",
    "        \n",
    "        frequency = 100\n",
    "        if total_i % frequency == 0:\n",
    "            for i, batch in enumerate(testloader,1):\n",
    "                net.eval()\n",
    "                with torch.no_grad():\n",
    "                    x = batch[0]\n",
    "                    y = batch[1]\n",
    "                    if train_on_gpu:\n",
    "                        x, y = x.cuda(), y.cuda()\n",
    "                    x = torch.reshape(x,(32,-1))\n",
    "                    pred = net.forward(x)\n",
    "                    loss = criterion(pred, y)\n",
    "                    acc_test += torch.sum(torch.tensor(np.argmax(pred.detach().cpu().numpy(),axis=1)) == torch.tensor(y.detach().cpu().numpy())) / len(pred)\n",
    "            avg_acc_train = round((acc_train / frequency).item(),2)\n",
    "            avg_acc_test = round((acc_test / len(testloader)).item(),2)\n",
    "            avg_acces_train.append(avg_acc_train)\n",
    "            avg_acces_test.append(avg_acc_test)\n",
    "\n",
    "\n",
    "            now = time.time()  \n",
    "            duration = round(now - start, 2)\n",
    "        \n",
    "            print(int(100*total_i/(epochs*len(trainloader))),\"%\",\"loss: \", avg_loss, \"accuracy/train: \", avg_acc_train, \"accuracy/test\", avg_acc_test, \"duration: \", duration, \"batch/sec: \", total_i / duration)\n",
    "            writer.add_scalar('Loss/train', avg_loss, total_i)\n",
    "            writer.add_scalar('Accuracy/train', avg_acc_train, total_i)\n",
    "            writer.add_scalar('Accuracy/test', avg_acc_test, total_i)\n",
    "            acc_test = 0\n",
    "            acc_train = 0\n",
    "        \n",
    "        \n",
    "\n",
    "        \n"
   ]
  },
  {
   "cell_type": "markdown",
   "metadata": {},
   "source": [
    "Plot the training loss (and validation loss/accuracy, if recorded)."
   ]
  },
  {
   "cell_type": "code",
   "execution_count": 21,
   "metadata": {},
   "outputs": [
    {
     "name": "stdout",
     "output_type": "stream",
     "text": [
      "75 7500\n"
     ]
    }
   ],
   "source": [
    "print(len(avg_acces_train),len(avg_acces))"
   ]
  },
  {
   "cell_type": "code",
   "execution_count": 28,
   "metadata": {},
   "outputs": [
    {
     "name": "stdout",
     "output_type": "stream",
     "text": [
      "Final train accuracy: 0.89\n",
      "Final test accuracy:  0.89\n"
     ]
    },
    {
     "data": {
      "image/png": "[encoded data removed]",
      "text/plain": [
       "<Figure size 432x288 with 1 Axes>"
      ]
     },
     "metadata": {
      "needs_background": "light"
     },
     "output_type": "display_data"
    }
   ],
   "source": [
    "## YOUR CODE HERE ##\n",
    "# lr=0.001\n",
    "#avg_acces_test = avg_acces_train # old error\n",
    "#avg_acces_test = np.repeat(avg_acces_test, 100).tolist()\n",
    "print(\"Final train accuracy:\", avg_acces_train[-1])\n",
    "print(\"Final test accuracy: \", avg_acces_test[-1])\n",
    "plt.plot(avg_acces_train,'g', label = 'train')\n",
    "plt.plot(avg_acces_test,'r', label = 'test')\n",
    "plt.legend(['train_acc','test_acc'])\n",
    "plt.show()\n",
    "#asd"
   ]
  },
  {
   "cell_type": "code",
   "execution_count": 48,
   "metadata": {},
   "outputs": [
    {
     "name": "stdout",
     "output_type": "stream",
     "text": [
      "final loss: 1.25\n"
     ]
    },
    {
     "data": {
      "image/png": "[encoded data removed]",
      "text/plain": [
       "<Figure size 432x288 with 1 Axes>"
      ]
     },
     "metadata": {
      "needs_background": "light"
     },
     "output_type": "display_data"
    }
   ],
   "source": [
    "## YOUR CODE HERE ##\n",
    "# lr=0.0001\n",
    "print(\"final loss:\", avg_losses[-1])\n",
    "a = plt.plot(avg_losses)\n",
    "plt.show()"
   ]
  },
  {
   "cell_type": "markdown",
   "metadata": {},
   "source": [
    "## Testing your model\n",
    "Using the previously created `DataLoader` for the test set, compute the percentage of correct predictions using the highest probability prediction. \n",
    "\n",
    "If your accuracy is over 90%, great work, but see if you can push a bit further! \n",
    "If your accuracy is under 90%, you'll need to make improvements.\n",
    "Go back and check your model architecture, loss function, and optimizer to make sure they're appropriate for an image classification task."
   ]
  },
  {
   "cell_type": "code",
   "execution_count": null,
   "metadata": {},
   "outputs": [],
   "source": [
    "## YOUR CODE HERE ##"
   ]
  },
  {
   "cell_type": "markdown",
   "metadata": {},
   "source": [
    "## Improving your model\n",
    "\n",
    "Once your model is done training, try tweaking your hyperparameters and training again below to improve your accuracy on the test set!"
   ]
  },
  {
   "cell_type": "code",
   "execution_count": null,
   "metadata": {},
   "outputs": [],
   "source": [
    "## YOUR CODE HERE ##"
   ]
  },
  {
   "cell_type": "markdown",
   "metadata": {},
   "source": [
    "## Saving your model\n",
    "Using `torch.save`, save your model for future loading."
   ]
  },
  {
   "cell_type": "code",
   "execution_count": null,
   "metadata": {},
   "outputs": [],
   "source": [
    "## YOUR CODE HERE ##"
   ]
  }
 ],
 "metadata": {
  "kernelspec": {
   "display_name": "Python 3",
   "language": "python",
   "name": "python3"
  },
  "language_info": {
   "codemirror_mode": {
    "name": "ipython",
    "version": 3
   },
   "file_extension": ".py",
   "mimetype": "text/x-python",
   "name": "python",
   "nbconvert_exporter": "python",
   "pygments_lexer": "ipython3",
   "version": "3.7.6"
  }
 },
 "nbformat": 4,
 "nbformat_minor": 4
}
